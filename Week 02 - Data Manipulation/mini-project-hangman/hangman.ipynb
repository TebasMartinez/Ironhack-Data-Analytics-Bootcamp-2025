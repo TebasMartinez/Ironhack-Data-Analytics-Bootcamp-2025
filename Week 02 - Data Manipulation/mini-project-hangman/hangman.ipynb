{
 "cells": [
  {
   "cell_type": "code",
   "execution_count": 6,
   "id": "194e416f-e098-43e9-8e5b-a17a92825761",
   "metadata": {},
   "outputs": [],
   "source": [
    "import random"
   ]
  },
  {
   "cell_type": "code",
   "execution_count": null,
   "id": "a7a7c7d4-eaed-4ed6-928b-a199b4bec44d",
   "metadata": {},
   "outputs": [],
   "source": [
    "def main():\n",
    "    \n",
    "    \"\"\" O\n",
    "       /|\\\n",
    "        |\n",
    "       / \\ \"\"\"\n",
    "    \n",
    "    print(\"Welcome to Hangman! Computer has randomly generated a word, guess correctly and no one will be hurt :)\")\n",
    "    word = new_word\n",
    "    searchable_word = searchify_word(word)\n",
    "    userlives = 5\n",
    "    win = False\n",
    "    p1_guess = generate_empty_guess(word)\n",
    "    while True:\n",
    "        p1_guess = guess_letter(searchable_word, p1_guess)\n",
    "        if p1_guess == False:\n",
    "            userlives -= 1\n",
    "        elif str(p1_guess) == word: # THIS IS PROBABLY WRONG, GOTTA CHECK HOW TO MAKE LIST INTO STRING =S\n",
    "            # win\n",
    "        if win == True: # player wins \n",
    "            break\n",
    "        if userlives == 0: # player looses\n",
    "            break"
   ]
  },
  {
   "cell_type": "code",
   "execution_count": 56,
   "id": "b855a000-0e96-4708-ae2a-4e7a8b843edb",
   "metadata": {},
   "outputs": [
    {
     "data": {
      "text/plain": [
       "['_', '_', '_', '_']"
      ]
     },
     "execution_count": 56,
     "metadata": {},
     "output_type": "execute_result"
    }
   ],
   "source": [
    "def generate_empty_guess(word):\n",
    "    emptyguess = []\n",
    "    for letter in word:\n",
    "        emptyguess.append(\"_\")\n",
    "    return emptyguess"
   ]
  },
  {
   "cell_type": "code",
   "execution_count": null,
   "id": "2f5d6071-066a-46c3-b998-10417b7e6b6c",
   "metadata": {},
   "outputs": [],
   "source": [
    "# ask the user for a letter\n",
    "# check if the letter is in the word\n",
    "def guess_letter(word, p1_guess):\n",
    "    while True:\n",
    "    guessed = False\n",
    "    p1letter = input(\"What's your guess? (write a single letter in low cases) \")\n",
    "    if len(p1letter) == 1 and p1letter.isalpha():\n",
    "        p1letter = p1letter.lower()\n",
    "        for letter in word:\n",
    "            if p1letter == letter[1]:\n",
    "                p1_guess[letter[0]] = p1letter\n",
    "                guessed = True\n",
    "        if guessed == True:\n",
    "            print(f\"You found a letter! :) \\n Current progress: {p1_guess}\")\n",
    "            return True\n",
    "        else:\n",
    "            Print(f\"The letter {p1letter} is not in the answer... be careful, someone might get hurt :(\")\n",
    "            return False\n",
    "    else:\n",
    "        print(f\"You didn't provide a valid input, don't try to cheat! \\n\")"
   ]
  },
  {
   "cell_type": "code",
   "execution_count": null,
   "id": "0e993668-3b9d-436c-b69e-1460e92bd70e",
   "metadata": {},
   "outputs": [],
   "source": [
    "def new_word():\n",
    "    \"\"\"\n",
    "    Chooses a random word from a given list. All words are all lower cases.\n",
    "    \"\"\"\n",
    "    f = open(\"words.txt\", \"r\")\n",
    "    wordlist = f.read().split(\"\\n\")\n",
    "    word = random.choice(wordlist)\n",
    "    wordlst = []\n",
    "    for index, letter in enumerate(word):\n",
    "        wordlst.append((index, letter))\n",
    "    return wordlst"
   ]
  },
  {
   "cell_type": "code",
   "execution_count": null,
   "id": "30eb66af",
   "metadata": {},
   "outputs": [],
   "source": [
    "def searchify_word(word):\n",
    "    \"\"\"\n",
    "    Returns the word as a list of tuples where each tuple[0] is the index and each tuple[1] is the letter. \n",
    "    E.g:\n",
    "    for twelfth\n",
    "    returns [(0, 't'), (1, 'w'), (2, 'e'), (3, 'l'), (4, 'f'), (5, 't'), (6, 'h')]\n",
    "    \"\"\"\n",
    "    wordlst = []\n",
    "    for index, letter in enumerate(word):\n",
    "        wordlst.append((index, letter))\n",
    "    return wordlst"
   ]
  }
 ],
 "metadata": {
  "kernelspec": {
   "display_name": "Python [conda env:base] *",
   "language": "python",
   "name": "conda-base-py"
  },
  "language_info": {
   "codemirror_mode": {
    "name": "ipython",
    "version": 3
   },
   "file_extension": ".py",
   "mimetype": "text/x-python",
   "name": "python",
   "nbconvert_exporter": "python",
   "pygments_lexer": "ipython3",
   "version": "3.12.7"
  }
 },
 "nbformat": 4,
 "nbformat_minor": 5
}
