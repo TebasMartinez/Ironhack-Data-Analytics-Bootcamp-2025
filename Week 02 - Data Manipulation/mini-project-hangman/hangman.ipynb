{
 "cells": [
  {
   "cell_type": "code",
   "execution_count": 6,
   "id": "194e416f-e098-43e9-8e5b-a17a92825761",
   "metadata": {},
   "outputs": [],
   "source": [
    "import random\n"
   ]
  },
  {
   "cell_type": "code",
   "execution_count": null,
   "id": "a7a7c7d4-eaed-4ed6-928b-a199b4bec44d",
   "metadata": {},
   "outputs": [],
   "source": [
    "def main():\n",
    "    \n",
    "    \"\"\" O\n",
    "       /|\\\n",
    "        |\n",
    "       / \\ \"\"\"\n",
    "    \n",
    "    print(\"Welcome to Hangman! Computer has randomly generated a word, guess correctly and no one will be hurt :)\")\n",
    "    word = new_word\n",
    "    p1_guess = \"\"\n",
    "    p1_guess = guess_letter(word)\n",
    "    "
   ]
  },
  {
   "cell_type": "code",
   "execution_count": null,
   "id": "2f5d6071-066a-46c3-b998-10417b7e6b6c",
   "metadata": {},
   "outputs": [],
   "source": [
    "# ask the user for a letter\n",
    "# check if the letter is in the word\n",
    "def guess_letter(word):\n",
    "    letter = input(\"What's your "
   ]
  },
  {
   "cell_type": "code",
   "execution_count": 56,
   "id": "b855a000-0e96-4708-ae2a-4e7a8b843edb",
   "metadata": {},
   "outputs": [
    {
     "data": {
      "text/plain": [
       "['_', '_', '_', '_']"
      ]
     },
     "execution_count": 56,
     "metadata": {},
     "output_type": "execute_result"
    }
   ],
   "source": [
    "def generate_empty_guess(word):\n",
    "    emptyguess = []\n",
    "    for letter in word:\n",
    "        emptyguess.append(\"_\")\n",
    "    return emptyguess\n",
    "\n",
    "generate_empty_guess(\"hola\")"
   ]
  },
  {
   "cell_type": "code",
   "execution_count": null,
   "id": "0e993668-3b9d-436c-b69e-1460e92bd70e",
   "metadata": {},
   "outputs": [],
   "source": [
    "def new_word():\n",
    "    f = open(\"words.txt\", \"r\")\n",
    "    wordlist = f.read().split(\"\\n\")\n",
    "    word = random.choice(wordlist)\n",
    "    return word"
   ]
  },
  {
   "cell_type": "code",
   "execution_count": null,
   "id": "9d58fb4a-dfb2-41a0-9919-d45e64ac9393",
   "metadata": {},
   "outputs": [],
   "source": [
    "def "
   ]
  },
  {
   "cell_type": "code",
   "execution_count": null,
   "id": "cce9bd16-6d5d-4a86-a2be-f0a28e326cfa",
   "metadata": {},
   "outputs": [],
   "source": [
    "\"\"\" O\n",
    "   /|\\\n",
    "    |\n",
    "   / \\ \"\"\""
   ]
  },
  {
   "cell_type": "code",
   "execution_count": 52,
   "id": "9c6766ba-93af-4c8e-b4eb-698ab7e3cfa3",
   "metadata": {},
   "outputs": [
    {
     "data": {
      "text/plain": [
       "\"['_ ', '_ ', '_ ', '_ ']\""
      ]
     },
     "execution_count": 52,
     "metadata": {},
     "output_type": "execute_result"
    }
   ],
   "source": []
  }
 ],
 "metadata": {
  "kernelspec": {
   "display_name": "Python [conda env:base] *",
   "language": "python",
   "name": "conda-base-py"
  },
  "language_info": {
   "codemirror_mode": {
    "name": "ipython",
    "version": 3
   },
   "file_extension": ".py",
   "mimetype": "text/x-python",
   "name": "python",
   "nbconvert_exporter": "python",
   "pygments_lexer": "ipython3",
   "version": "3.12.7"
  }
 },
 "nbformat": 4,
 "nbformat_minor": 5
}
