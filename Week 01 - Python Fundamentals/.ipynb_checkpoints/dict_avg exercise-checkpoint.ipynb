{
 "cells": [
  {
   "cell_type": "code",
   "execution_count": 67,
   "id": "b38cdcd6-b367-4e44-98d3-dfa5b61baa04",
   "metadata": {},
   "outputs": [],
   "source": [
    "scores = {\n",
    "    \"Alice\": [\"WD\", 87],\n",
    "    \"Bob\": [\"DA\", 73],\n",
    "    \"Charlie\": [\"UX\", 92],\n",
    "    \"Diana\": [\"WD\", 68],\n",
    "    \"Ethan\": [\"DA\", 81],\n",
    "    \"Fiona\": [\"UX\", 95],\n",
    "    \"George\": [\"WD\", 76],\n",
    "    \"Hannah\": [\"DA\", 89],\n",
    "    \"Ian\": [\"UX\", 64],\n",
    "    \"Julia\": [\"WD\", 90],\n",
    "    \"Kevin\": [\"DA\", 78],\n",
    "    \"Laura\": [\"UX\", 84],\n",
    "    \"Mike\": [\"WD\", 69],\n",
    "    \"Nina\": [\"DA\", 93],\n",
    "    \"Oscar\": [\"UX\", 71],\n",
    "    \"Paula\": [\"WD\", 85],\n",
    "    \"Quinn\": [\"DA\", 88],\n",
    "    \"Ryan\": [\"UX\", 66],\n",
    "    \"Sophie\": [\"WD\", 91],\n",
    "    \"Tom\": [\"DA\", 74],\n",
    "    \"Nur\": [\"Music\", 100],\n",
    "    \"Tebas\": [\"Music\", 1]\n",
    "}"
   ]
  },
  {
   "cell_type": "code",
   "execution_count": 68,
   "id": "c6d4d491-94cb-4b71-bb06-e943afeaddb4",
   "metadata": {},
   "outputs": [],
   "source": [
    "# Using the dictionary, calculate the average score for each class\n",
    "# The result should be a dictionary, {\"WD:86, \"DA\":92, \"UX\":78}\n",
    "# Then put it inside a function called \"avg_calculator\", \n",
    "# which takes a dictionary of grades as input and returns a dictionary of averages per class"
   ]
  },
  {
   "cell_type": "code",
   "execution_count": 82,
   "id": "85299fb6-5b6e-437e-8784-f858d051cc3a",
   "metadata": {},
   "outputs": [],
   "source": [
    "def avg_calculator(scores_dic):\n",
    "    \"\"\"\n",
    "    Takes a dictionary with the structure\n",
    "        {name_of_student: [name_of_subject, score]}\n",
    "    And returns a dictionary with the average scores of every subject\n",
    "    \n",
    "    Only works if subjects are WD, DA, and UX\n",
    "    \"\"\"\n",
    "    scores_WD = [lst[1] for lst in scores_dic.values() if lst[0] == \"WD\"]\n",
    "    scores_DA = [lst[1] for lst in scores_dic.values() if lst[0] == \"DA\"]\n",
    "    scores_UX = [lst[1] for lst in scores_dic.values() if lst[0] == \"UX\"]\n",
    "    WD_average = sum(scores_WD) / len(scores_WD)\n",
    "    DA_average = sum(scores_DA) / len(scores_DA)\n",
    "    UX_average = sum(scores_UX) / len(scores_UX)\n",
    "    return {\"WD\":round(WD_average), \"DA\":round(DA_average), \"UX\":round(UX_average)}"
   ]
  },
  {
   "cell_type": "code",
   "execution_count": 81,
   "id": "63918dd7-bba1-442b-978f-7a8d157df72f",
   "metadata": {},
   "outputs": [
    {
     "data": {
      "text/plain": [
       "{'WD': 81, 'DA': 82, 'UX': 79}"
      ]
     },
     "execution_count": 81,
     "metadata": {},
     "output_type": "execute_result"
    }
   ],
   "source": [
    "avg_calculator(scores)"
   ]
  },
  {
   "cell_type": "code",
   "execution_count": 78,
   "id": "bab02b6a-3259-4470-9e38-769ad9a372ac",
   "metadata": {},
   "outputs": [],
   "source": [
    "def avg_calculator_general(scores_dic):\n",
    "    \"\"\"\n",
    "    Takes a dictionary with the structure\n",
    "        {name_of_student: [name_of_subject, score]}\n",
    "    And returns a dictionary with the average scores of each subject\n",
    "    \"\"\"\n",
    "    scores_lstoflsts = scores_dic.values()\n",
    "    subjects = set([lst[0] for lst in scores_lstoflsts])\n",
    "    subjects_scores = {}\n",
    "    for subject in subjects:\n",
    "        subjects_scores.update({subject:[lst[1] for lst in scores_dic.values() if lst[0] == subject]})\n",
    "    for subject in subjects_scores:\n",
    "        subjects_scores[subject] = round(sum(subjects_scores[subject]) / len(subjects_scores[subject]))\n",
    "    return subjects_scores"
   ]
  },
  {
   "cell_type": "code",
   "execution_count": 79,
   "id": "9817e7bb-b2bd-48a3-960e-aab015314fff",
   "metadata": {},
   "outputs": [
    {
     "data": {
      "text/plain": [
       "{'Music': 50, 'WD': 81, 'DA': 82, 'UX': 79}"
      ]
     },
     "execution_count": 79,
     "metadata": {},
     "output_type": "execute_result"
    }
   ],
   "source": [
    "avg_calculator_general(scores)"
   ]
  }
 ],
 "metadata": {
  "kernelspec": {
   "display_name": "Python [conda env:base] *",
   "language": "python",
   "name": "conda-base-py"
  },
  "language_info": {
   "codemirror_mode": {
    "name": "ipython",
    "version": 3
   },
   "file_extension": ".py",
   "mimetype": "text/x-python",
   "name": "python",
   "nbconvert_exporter": "python",
   "pygments_lexer": "ipython3",
   "version": "3.12.7"
  }
 },
 "nbformat": 4,
 "nbformat_minor": 5
}
