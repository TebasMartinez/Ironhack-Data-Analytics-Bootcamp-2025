{
 "cells": [
  {
   "cell_type": "markdown",
   "id": "63204531",
   "metadata": {},
   "source": [
    "## Exercises"
   ]
  },
  {
   "cell_type": "markdown",
   "id": "378ac59a",
   "metadata": {},
   "source": [
    "1. Write a program that prompts the user to enter two numbers and determines which number is larger or if they are equal."
   ]
  },
  {
   "cell_type": "code",
   "execution_count": 4,
   "id": "6f9574d6",
   "metadata": {},
   "outputs": [
    {
     "name": "stdin",
     "output_type": "stream",
     "text": [
      "Please enter first number:  1\n",
      "Please enter second number:  2\n"
     ]
    },
    {
     "name": "stdout",
     "output_type": "stream",
     "text": [
      "y is greater than x\n"
     ]
    }
   ],
   "source": [
    "x = int(input(\"Please enter first number: \"))\n",
    "y = int(input(\"Please enter second number: \"))\n",
    "\n",
    "if x > y:\n",
    "    print(\"x is greater than y\")\n",
    "elif y > x:\n",
    "    print(\"y is greater than x\")\n",
    "else:\n",
    "    print(\"they are equal\")"
   ]
  },
  {
   "cell_type": "markdown",
   "id": "6beb50d2",
   "metadata": {},
   "source": [
    "2. Write a program that prompts the user to enter a numerical grade and prints the corresponding grade classification according to the following criteria:\n",
    "\n",
    "- Grades 90 and above: \"A\"\n",
    "- Grades 80-89: \"B\"\n",
    "- Grades 70-79: \"C\"\n",
    "- Grades 60-69: \"D\"\n",
    "- Grades below 60: \"F\""
   ]
  },
  {
   "cell_type": "code",
   "execution_count": 12,
   "id": "4de0a6c1",
   "metadata": {},
   "outputs": [
    {
     "name": "stdin",
     "output_type": "stream",
     "text": [
      "Please enter your numerical grade:  99\n"
     ]
    },
    {
     "name": "stdout",
     "output_type": "stream",
     "text": [
      "A\n"
     ]
    }
   ],
   "source": [
    "grade = int(input(\"Please enter your numerical grade: \"))\n",
    "\n",
    "if grade >= 90:\n",
    "    print(\"A\")\n",
    "elif grade >= 80:\n",
    "    print(\"B\")\n",
    "elif grade >= 70:\n",
    "    print(\"C\")\n",
    "elif grade >= 60:\n",
    "    print(\"D\")\n",
    "else:\n",
    "    print(\"F\")"
   ]
  },
  {
   "cell_type": "markdown",
   "id": "68a82d80",
   "metadata": {},
   "source": [
    "3. Write a program that prompts the user to enter a letter of the alphabet and determines whether it is a vowel or a consonant. Consider both uppercase and lowercase letters.\n",
    "\n",
    "Hint:\n",
    "\n",
    "Convert the letter to lowercase using the lower() method to handle both uppercase and lowercase letters.\n",
    "\n",
    "The lower() method is a built-in string method in Python that returns a new string with all the characters converted to lowercase. Here's how it works:\n",
    "```python\n",
    "string.lower()\n",
    "```\n",
    "\n",
    "The lower() method returns a new string with all the characters converted to lowercase. The original string remains unchanged. This means that you should save the result in a variable."
   ]
  },
  {
   "cell_type": "markdown",
   "id": "0d85deea",
   "metadata": {},
   "source": [
    "Example:\n",
    "\n",
    "```python\n",
    "message = \"Hello, World!\"\n",
    "lowercase_message = message.lower()\n",
    "print(lowercase_message)  # Output: hello, world!\n",
    "```"
   ]
  },
  {
   "cell_type": "markdown",
   "id": "41daea1f",
   "metadata": {},
   "source": [
    "In this example, the string \"Hello, World!\" is assigned to the variable message. When we call the lower() method on message, it returns a new string \"hello, world!\" with all the characters converted to lowercase. We then assign this new string to the variable lowercase_message and print its value."
   ]
  },
  {
   "cell_type": "markdown",
   "id": "67a8550e",
   "metadata": {},
   "source": [
    "The lower() method is often used to perform case-insensitive comparisons. By converting all characters to lowercase, we can compare strings without worrying about differences in letter case."
   ]
  },
  {
   "cell_type": "code",
   "execution_count": 19,
   "id": "cd9e4355",
   "metadata": {},
   "outputs": [
    {
     "name": "stdin",
     "output_type": "stream",
     "text": [
      "Please enter a letter:  G\n"
     ]
    },
    {
     "name": "stdout",
     "output_type": "stream",
     "text": [
      "Your letter is a consonant\n"
     ]
    }
   ],
   "source": [
    "letter = input(\"Please enter a letter: \")\n",
    "letter = letter.lower()\n",
    "\n",
    "if letter == \"a\" or letter == \"e\" or letter == \"i\" or letter == \"o\" or letter == \"u\":\n",
    "    print(\"Your letter is a vowel\")\n",
    "else:\n",
    "    print(\"Your letter is a consonant\")"
   ]
  },
  {
   "cell_type": "markdown",
   "id": "ae27e74c",
   "metadata": {},
   "source": [
    "**Bonus Exercise** \n",
    "\n",
    "We want the user to input a number and check if the number is even, odd, or zero. But we want to ensure the code handles invalid input, such as the user entering text. To do so, follow these steps:\n",
    "\n",
    "1. Prompt the user to enter an integer.\n",
    "\n",
    "2. Before proceeding further, check if the entered input is a valid number using appropriate validation techniques. If the input is not a number (i.e., it contains letters or symbols), print a message indicating that the input was not an integer.\n",
    "\n",
    "3. If the input is a number, perform the following checks:\n",
    "\n",
    "- If the number is zero, print a message indicating that the number is zero.\n",
    "- If the number is even (i.e., divisible by 2 with no remainder), print a message indicating that the number is even.\n",
    "- If the number is odd (i.e., not divisible by 2), print a message indicating that the number is odd.\n",
    "\n",
    "Hint: search for the method *isdigit()*."
   ]
  },
  {
   "cell_type": "code",
   "execution_count": 30,
   "id": "8496dc90",
   "metadata": {},
   "outputs": [
    {
     "name": "stdin",
     "output_type": "stream",
     "text": [
      "Please enter a number:  hfjfj\n"
     ]
    },
    {
     "name": "stdout",
     "output_type": "stream",
     "text": [
      "Invalid input detected. Please try again\n"
     ]
    }
   ],
   "source": [
    "n = input(\"Please enter a number: \")\n",
    "\n",
    "if n.isdigit():\n",
    "    n = int(n)\n",
    "    if n != 0 and n % 2 == 0:\n",
    "        print(\"The number is even\")\n",
    "    elif n != 0 and n % 2 != 0:\n",
    "        print(\"The number is odd\")\n",
    "    else:\n",
    "        print(\"The number is zero\")\n",
    "else:\n",
    "    print(\"Invalid input detected. Please try again\")"
   ]
  }
 ],
 "metadata": {
  "kernelspec": {
   "display_name": "Python [conda env:base] *",
   "language": "python",
   "name": "conda-base-py"
  },
  "language_info": {
   "codemirror_mode": {
    "name": "ipython",
    "version": 3
   },
   "file_extension": ".py",
   "mimetype": "text/x-python",
   "name": "python",
   "nbconvert_exporter": "python",
   "pygments_lexer": "ipython3",
   "version": "3.12.7"
  }
 },
 "nbformat": 4,
 "nbformat_minor": 5
}
