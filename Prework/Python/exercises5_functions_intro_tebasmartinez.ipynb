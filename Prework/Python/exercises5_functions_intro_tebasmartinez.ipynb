{
 "cells": [
  {
   "cell_type": "markdown",
   "id": "25c764c4",
   "metadata": {},
   "source": [
    "# Exercise"
   ]
  },
  {
   "cell_type": "markdown",
   "id": "7e170f47",
   "metadata": {},
   "source": [
    "\n",
    "Create a function named \"generation_calculator\" to help determine the generation you belong to according to your birth year. Follow the below information:\n",
    "\n",
    "| Birth Year   | Generation          |\n",
    "|--------------|---------------------|\n",
    "| < 1949       | Silent Generation   |\n",
    "| 1949-1968    | Baby Boomer         |\n",
    "| 1969-1980    | Generation X        |\n",
    "| 1981-1993    | Millennial          |\n",
    "| >= 1994      | Generation Z        |"
   ]
  },
  {
   "cell_type": "markdown",
   "id": "dfd86c80",
   "metadata": {},
   "source": [
    "1. Define the function generation calculator. Write conditionals for each generation. For example, if you were born before 1949 you would be a \"silent generation\".\n",
    "2. Call the function to test it with different year values.\n",
    "3. Print the results."
   ]
  },
  {
   "cell_type": "code",
   "execution_count": 15,
   "id": "3e5110c7",
   "metadata": {
    "vscode": {
     "languageId": "python"
    }
   },
   "outputs": [
    {
     "name": "stdin",
     "output_type": "stream",
     "text": [
      "What is your birth year? 1993\n"
     ]
    },
    {
     "name": "stdout",
     "output_type": "stream",
     "text": [
      "Millennial\n"
     ]
    }
   ],
   "source": [
    "def generation_calculator(year):\n",
    "    '''Determines the generation you belong to according to your birth year'''\n",
    "    if year < 1949:\n",
    "        return \"Silent Generation\"\n",
    "    elif year in range(1949,1969):\n",
    "        return \"Baby Boomer\"\n",
    "    elif year in range(1969,1981):\n",
    "        return \"Generation X\"\n",
    "    elif year in range(1981,1994):\n",
    "        return \"Millennial\"\n",
    "    else:\n",
    "        return \"Generation Z\"\n",
    "\n",
    "generation = generation_calculator(int(input(\"What is your birth year?\")))\n",
    "print(generation)"
   ]
  }
 ],
 "metadata": {
  "kernelspec": {
   "display_name": "Python [conda env:base] *",
   "language": "python",
   "name": "conda-base-py"
  },
  "language_info": {
   "codemirror_mode": {
    "name": "ipython",
    "version": 3
   },
   "file_extension": ".py",
   "mimetype": "text/x-python",
   "name": "python",
   "nbconvert_exporter": "python",
   "pygments_lexer": "ipython3",
   "version": "3.12.7"
  }
 },
 "nbformat": 4,
 "nbformat_minor": 5
}
