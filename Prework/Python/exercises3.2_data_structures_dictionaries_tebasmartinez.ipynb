{
 "cells": [
  {
   "cell_type": "markdown",
   "id": "6d491484",
   "metadata": {},
   "source": [
    "## Exercises"
   ]
  },
  {
   "cell_type": "markdown",
   "id": "97007a0f",
   "metadata": {},
   "source": [
    "1. Use the dictionary given below. This is a dictionary that shows the frequency of the words in a text paragraph. The keys are the words, and the values are its frequency.\n"
   ]
  },
  {
   "cell_type": "code",
   "execution_count": 15,
   "id": "19028ece",
   "metadata": {},
   "outputs": [],
   "source": [
    "word_freq = {'love': 25, 'conversation': 1, 'every': 6, \"we're\": 1, 'plate': 1, 'sour': 1, 'jukebox': 1, 'now': 11, 'taxi': 1, 'fast': 1, 'bag': 1, 'man': 1, 'push': 3, 'baby': 14, 'going': 1, 'you': 16, \"don't\": 2, 'one': 1, 'mind': 2, 'backseat': 1, 'friends': 1, 'then': 3, 'know': 2}"
   ]
  },
  {
   "cell_type": "markdown",
   "id": "87181a37",
   "metadata": {},
   "source": [
    "Answer the following questions:   \n",
    "\n",
    "- How many *key-value* pairs are in this dictionary?\n",
    "- What *keys* are present in this dictionary? \n",
    "- What is the frequency of following words in the dictionary: \n",
    "    - 'friends'\n",
    "    - 'taxi' \n",
    "    - 'jukebox'\n",
    "- Is the word `begin` present in the dictionary?\n",
    "- Add the following words and their frequencies to the dictionary:\n",
    "        - 'begin': 1\n",
    "        - 'start': 2\n",
    "        - 'over': 1\n",
    "        - 'body': 17\n",
    "- Use the method `list()` to convert the result from `word_freq.keys()` to a list: `list(word_freq.keys())`.\n",
    "  - Store the results of the above code in a variable called `word_list`.\n",
    "  - What is the first word in `word_list`? What is the frequency of that word?\n",
    "  - What is the last word in `word_list`? What is the frequency of that word?"
   ]
  },
  {
   "cell_type": "code",
   "execution_count": 38,
   "id": "197cecf4",
   "metadata": {},
   "outputs": [
    {
     "name": "stdout",
     "output_type": "stream",
     "text": [
      "This dictionary contains 26 key-value pairs\n",
      "The keys present in this dictionary are: dict_keys(['love', 'conversation', 'every', \"we're\", 'plate', 'sour', 'jukebox', 'now', 'taxi', 'fast', 'bag', 'man', 'push', 'baby', 'going', 'you', \"don't\", 'one', 'mind', 'backseat', 'friends', 'then', 'know', 'begin', 'start', 'body'])\n",
      "The frequency of the words are:\n",
      "-friends: 1\n",
      "-taxi: 1\n",
      "-jukebox: 1\n",
      "Yes, the word 'begin' is present in the dictionary\n",
      "The first word in 'word_list' is love and its frequency is 25\n",
      "The last word in 'word_list' is body and its frequency is 17\n"
     ]
    }
   ],
   "source": [
    "print(\"This dictionary contains\", len(word_freq), \"key-value pairs\")\n",
    "\n",
    "print(\"The keys present in this dictionary are:\", word_freq.keys())\n",
    "\n",
    "print(\"The frequency of the words are:\")\n",
    "print(\"-friends:\", word_freq['friends'])\n",
    "print(\"-taxi:\", word_freq['taxi'])\n",
    "print(\"-jukebox:\", word_freq['jukebox'])\n",
    "\n",
    "if 'begin' in word_freq:\n",
    "    print(\"Yes, the word 'begin' is present in the dictionary\")\n",
    "else:\n",
    "    print(\"No, the word 'begin' is not present in the dictionary\")\n",
    "#Initially not present and the code prints the second text, \n",
    "#however after running this code the first text will be printed since the word \"begin\" is then added.\n",
    "\n",
    "word_freq['begin'] = 1\n",
    "word_freq['start'] = 2\n",
    "word_freq['body'] = 17\n",
    "\n",
    "word_list = list(word_freq.keys())\n",
    "\n",
    "values_list = list(word_freq.values())\n",
    "print(\"The first word in 'word_list' is\", word_list[0], \"and its frequency is\", values_list[0])\n",
    "print(\"The last word in 'word_list' is\", word_list[-1], \"and its frequency is\", values_list[-1])"
   ]
  },
  {
   "cell_type": "markdown",
   "id": "a2046582",
   "metadata": {},
   "source": [
    "2. Can a dictionary have two key-value pairs with the same key?"
   ]
  },
  {
   "cell_type": "code",
   "execution_count": null,
   "id": "f7790078",
   "metadata": {},
   "outputs": [],
   "source": [
    "# No. When creating the second, it won't generate an error, but the second key's value will replace the first.\n",
    "# Effectively, this means the first key's value has been updated, so there's only one pair with this key."
   ]
  },
  {
   "cell_type": "markdown",
   "id": "0810d6cc",
   "metadata": {},
   "source": [
    "3. Can a dictionary have two key-value pairs with the same value but different keys?"
   ]
  },
  {
   "cell_type": "code",
   "execution_count": null,
   "id": "21e87d80",
   "metadata": {},
   "outputs": [],
   "source": [
    "# Yes. As an example, the dictionary created for Exercise 1 has multiple keys (\"conversation\", \n",
    "# \"plate\", or \"sour\") with the value 1."
   ]
  }
 ],
 "metadata": {
  "kernelspec": {
   "display_name": "Python [conda env:base] *",
   "language": "python",
   "name": "conda-base-py"
  },
  "language_info": {
   "codemirror_mode": {
    "name": "ipython",
    "version": 3
   },
   "file_extension": ".py",
   "mimetype": "text/x-python",
   "name": "python",
   "nbconvert_exporter": "python",
   "pygments_lexer": "ipython3",
   "version": "3.12.7"
  }
 },
 "nbformat": 4,
 "nbformat_minor": 5
}
