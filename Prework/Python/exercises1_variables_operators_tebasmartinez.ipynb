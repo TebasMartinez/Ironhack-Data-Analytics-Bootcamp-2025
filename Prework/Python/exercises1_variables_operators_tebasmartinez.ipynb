{
 "cells": [
  {
   "cell_type": "markdown",
   "id": "40b55b64",
   "metadata": {},
   "source": [
    "## Exercises"
   ]
  },
  {
   "cell_type": "markdown",
   "id": "2ade8394",
   "metadata": {},
   "source": [
    "### 1. Excercise - Data Types "
   ]
  },
  {
   "cell_type": "markdown",
   "id": "924c73b6",
   "metadata": {},
   "source": [
    "**1.1** For the given variables, use the `type()` function in Python to check their data types:"
   ]
  },
  {
   "cell_type": "code",
   "execution_count": 2,
   "id": "846d5763",
   "metadata": {},
   "outputs": [],
   "source": [
    "x1 = 1.1\n",
    "\n",
    "x2 = \"Ironhack\"\n",
    "\n",
    "x3 = \"1.1\"\n",
    "\n",
    "x4 = True \n",
    "\n",
    "x5 = \"True\"\n",
    "\n",
    "x6 = -1"
   ]
  },
  {
   "cell_type": "code",
   "execution_count": 3,
   "id": "724b4646",
   "metadata": {},
   "outputs": [
    {
     "name": "stdout",
     "output_type": "stream",
     "text": [
      "<class 'float'>\n",
      "<class 'str'>\n",
      "<class 'str'>\n",
      "<class 'bool'>\n",
      "<class 'str'>\n",
      "<class 'int'>\n"
     ]
    }
   ],
   "source": [
    "print(type(x1))\n",
    "print(type(x2))\n",
    "print(type(x3))\n",
    "print(type(x4))\n",
    "print(type(x5))\n",
    "print(type(x6))"
   ]
  },
  {
   "cell_type": "markdown",
   "id": "222b13b0",
   "metadata": {},
   "source": [
    "**2. What is the difference between the variables `x1` and `x3`?**"
   ]
  },
  {
   "cell_type": "markdown",
   "id": "c6aa8a4a",
   "metadata": {},
   "source": [
    "x1 is a float, while x3 is a string"
   ]
  },
  {
   "cell_type": "markdown",
   "id": "dd013b03",
   "metadata": {},
   "source": [
    "**3.Substract `x3` from `x1`. Explain what happens.**"
   ]
  },
  {
   "cell_type": "code",
   "execution_count": 4,
   "id": "4d3d7079",
   "metadata": {},
   "outputs": [
    {
     "ename": "TypeError",
     "evalue": "unsupported operand type(s) for -: 'float' and 'str'",
     "output_type": "error",
     "traceback": [
      "\u001b[0;31m---------------------------------------------------------------------------\u001b[0m",
      "\u001b[0;31mTypeError\u001b[0m                                 Traceback (most recent call last)",
      "Cell \u001b[0;32mIn[4], line 1\u001b[0m\n\u001b[0;32m----> 1\u001b[0m \u001b[38;5;28mprint\u001b[39m(x1\u001b[38;5;241m-\u001b[39mx3)\n",
      "\u001b[0;31mTypeError\u001b[0m: unsupported operand type(s) for -: 'float' and 'str'"
     ]
    }
   ],
   "source": [
    "print(x1-x3)"
   ]
  },
  {
   "cell_type": "markdown",
   "id": "6eb6ac62",
   "metadata": {},
   "source": [
    "I get the following error: \"unsupported operand type(s) for -: 'str' and 'float'\". \n",
    "It means that a string can't be used in numeric operations, so we can't substract x3 from x1."
   ]
  },
  {
   "cell_type": "markdown",
   "id": "7e0be7da",
   "metadata": {},
   "source": [
    "**4. What is the difference between the variables `x4` and `x5`?**"
   ]
  },
  {
   "cell_type": "markdown",
   "id": "74fb8c23",
   "metadata": {},
   "source": [
    "x4 is a boolean variable, while x5 is a string"
   ]
  },
  {
   "cell_type": "markdown",
   "id": "450700eb",
   "metadata": {},
   "source": [
    "**5.Substract `x4` from `x5`. Explain what happens.**"
   ]
  },
  {
   "cell_type": "code",
   "execution_count": 5,
   "id": "2095a4ee",
   "metadata": {},
   "outputs": [
    {
     "ename": "TypeError",
     "evalue": "unsupported operand type(s) for -: 'str' and 'bool'",
     "output_type": "error",
     "traceback": [
      "\u001b[0;31m---------------------------------------------------------------------------\u001b[0m",
      "\u001b[0;31mTypeError\u001b[0m                                 Traceback (most recent call last)",
      "Cell \u001b[0;32mIn[5], line 1\u001b[0m\n\u001b[0;32m----> 1\u001b[0m \u001b[38;5;28mprint\u001b[39m(x5\u001b[38;5;241m-\u001b[39mx4)\n",
      "\u001b[0;31mTypeError\u001b[0m: unsupported operand type(s) for -: 'str' and 'bool'"
     ]
    }
   ],
   "source": [
    "print(x5-x4)"
   ]
  },
  {
   "cell_type": "markdown",
   "id": "d50b2665",
   "metadata": {},
   "source": [
    "I get a similar error as in the previous exercise: \"unsupported operand type(s) for -: 'bool' and 'str'\".\n",
    "While the boolean value could be used as a number (a 1 in this case, since its value is true), a string can't be used in numeric operations."
   ]
  },
  {
   "cell_type": "markdown",
   "id": "c36cfb7a",
   "metadata": {},
   "source": [
    "### 2. Exercise - Operators"
   ]
  },
  {
   "cell_type": "markdown",
   "id": "2ba83ee3",
   "metadata": {},
   "source": [
    "**2.1** In this problem, we will demonstrate how to take user input. To gather input from the user, we can use the `input(message)` function, where *message* is a message of type *string* that will be displayed to the user. \n",
    "\n",
    "```py\n",
    "x1 = input(\"Please enter an integer number: \")\n",
    "x2 = input(\"Please enter another integer number: \")\n",
    "```"
   ]
  },
  {
   "cell_type": "markdown",
   "id": "c6eb9ae0",
   "metadata": {},
   "source": [
    "**Observation:** When you run two or more lines of code in the same cell, or in different cells, in Jupyter Notebook, it will be executed one at a time, in sequence. \n",
    "In this exercise, each of the `input()` functions will create a cell box where you can enter a value and press Enter to confirm. You can identify these input cells because they have a star symbol on the left side as shown [here](https://education-team-2020.s3.eu-west-1.amazonaws.com/data-analytics/prework/unit1/input_function.png), indicating that the computer is waiting for your input (or executing code).\n",
    "After you enter a value, the star symbol will disappear, and the next `input()` function will be executed, displaying a new cell box with a star symbol for the next input. It's important to note that **while an input cell has a star symbol, it will prevent you from running other cells** (if you have the default  settings on your Jupyter Notebook environment)."
   ]
  },
  {
   "cell_type": "markdown",
   "id": "d4d383e6",
   "metadata": {},
   "source": [
    "**_Question 1_**: \n",
    "\n",
    "Use the code provided above and ask the user to input two numbers. Then, print the values of the two variables. What is the type of `x1` and `x2`? Don't just answer by looking at it's value, use the function `type()` to do so."
   ]
  },
  {
   "cell_type": "code",
   "execution_count": null,
   "id": "5f78d7ee",
   "metadata": {},
   "outputs": [
    {
     "name": "stdout",
     "output_type": "stream",
     "text": [
      "Please enter an integer number:  3\n",
      "Please enter another integer number:  2\n"
     ]
    },
    {
     "name": "stdout",
     "output_type": "stream",
     "text": [
      "<class 'str'>\n",
      "<class 'str'>\n"
     ]
    }
   ],
   "source": [
    "x1 = input(\"Please enter an integer number: \")\n",
    "x2 = input(\"Please enter another integer number: \")\n",
    "print(type(x1))\n",
    "print(type(x2))"
   ]
  },
  {
   "cell_type": "markdown",
   "id": "b565df9c",
   "metadata": {},
   "source": [
    "x1 and x2 are strings"
   ]
  },
  {
   "cell_type": "markdown",
   "id": "a71c0d5f",
   "metadata": {},
   "source": [
    "Even though we entered *integers*, the `input()` function converts them into *strings* **by default** (it's the way the function `input()` is defined). Now we will perform data type conversion from *string* to *integer*. Use the `int()` function to do so. Print again the values after performing data type conversion and the corresponding type."
   ]
  },
  {
   "cell_type": "code",
   "execution_count": null,
   "id": "2423fa80",
   "metadata": {},
   "outputs": [
    {
     "name": "stdout",
     "output_type": "stream",
     "text": [
      "3\n",
      "2\n",
      "<class 'int'>\n",
      "<class 'int'>\n"
     ]
    }
   ],
   "source": [
    "x1 = int(x1)\n",
    "x2 = int(x2)\n",
    "print(x1)\n",
    "print(x2)\n",
    "print(type(x1))\n",
    "print(type(x2))"
   ]
  },
  {
   "cell_type": "markdown",
   "id": "bf02f1e0",
   "metadata": {},
   "source": [
    "**_Question 2_**: \n",
    "\n",
    "Perform the following simple comparisons, using operators:\n",
    "\n",
    "- Check if the two variables are equal.\n",
    "- Check if `x1` is greater than `x2`.\n",
    "- Check if `x2` is greater than `x1`.\n",
    "- Check if `x1` is not equal to `x2`.\n",
    "\n",
    "Store the difference between `x1` and `x2` in another variable `x3` (subtract the smaller number from the larger number). \n",
    "\n",
    "Increment the smaller of the two variables (`x1` and `x2`) with the difference. Use the shorthand addition operator for the same. Again check if `x1` and `x2` are equal or not.\n"
   ]
  },
  {
   "cell_type": "code",
   "execution_count": null,
   "id": "1c5de258",
   "metadata": {},
   "outputs": [
    {
     "name": "stdout",
     "output_type": "stream",
     "text": [
      "x1 and x2 are equal is True\n",
      "x1 is greater than x2 is False\n",
      "x2 is greater than x1 is False\n",
      "x1 is not equal to x2 is False\n",
      "x3 is 0\n",
      "now, x1 and x2 are equal is True\n"
     ]
    }
   ],
   "source": [
    "print(\"x1 and x2 are equal is\", x1 == x2)\n",
    "print(\"x1 is greater than x2 is\", x1 > x2)\n",
    "print(\"x2 is greater than x1 is\", x2 > x1)\n",
    "print(\"x1 is not equal to x2 is\", x1 != x2)\n",
    "x3 = x1 - x2\n",
    "if (x1 > x2):\n",
    "    x3 = x1 - x2\n",
    "    x2 = x2 + x3\n",
    "if (x2 > x1):\n",
    "    x3 = x2 - x1\n",
    "    x1 = x1 + x3\n",
    "print(\"x3 is\", x3)\n",
    "print(\"now, x1 and x2 are equal is\", x1 == x2)"
   ]
  },
  {
   "cell_type": "markdown",
   "id": "6c3146bd",
   "metadata": {},
   "source": [
    "### 3. Exercise - Concatenation\n",
    "\n",
    "Write a program that asks the user to enter their first name and last name as separate strings. Concatenate the two strings and display a greeting message, such as \"Hello, John Doe!\"."
   ]
  },
  {
   "cell_type": "code",
   "execution_count": null,
   "id": "fe4721c4",
   "metadata": {},
   "outputs": [
    {
     "name": "stdout",
     "output_type": "stream",
     "text": [
      "What's your first name?  Pepito\n",
      "What's your last name?  Fernandez\n"
     ]
    },
    {
     "name": "stdout",
     "output_type": "stream",
     "text": [
      "Hello, Pepito Fernandez\n"
     ]
    }
   ],
   "source": [
    "name = input(\"What's your first name? \")\n",
    "surname = input(\"What's your last name? \")\n",
    "space = \" \"\n",
    "full_name = name+space+surname\n",
    "print(\"Hello,\", full_name)"
   ]
  }
 ],
 "metadata": {
  "kernelspec": {
   "display_name": "Python [conda env:base] *",
   "language": "python",
   "name": "conda-base-py"
  },
  "language_info": {
   "codemirror_mode": {
    "name": "ipython",
    "version": 3
   },
   "file_extension": ".py",
   "mimetype": "text/x-python",
   "name": "python",
   "nbconvert_exporter": "python",
   "pygments_lexer": "ipython3",
   "version": "3.12.7"
  }
 },
 "nbformat": 4,
 "nbformat_minor": 5
}
