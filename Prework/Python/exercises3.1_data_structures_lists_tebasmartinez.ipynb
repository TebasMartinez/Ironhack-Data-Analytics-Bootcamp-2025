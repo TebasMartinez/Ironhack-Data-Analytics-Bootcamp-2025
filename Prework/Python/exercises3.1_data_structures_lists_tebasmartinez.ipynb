{
 "cells": [
  {
   "cell_type": "markdown",
   "id": "4f819add",
   "metadata": {},
   "source": [
    "### Exercises "
   ]
  },
  {
   "cell_type": "markdown",
   "id": "074bbf07",
   "metadata": {},
   "source": [
    "1. Given the list:\n",
    "    lst = [1, 2, 34, 5, 3, 12, 9, 8, 67, 89, 98, 90, 39, 21, 45, 46, 23, 13]\n",
    "    \n",
    "Answer the following questions:\n",
    "    \n",
    "- How many elements are in the list?\n",
    "- Using indexes, find out which is the first element in the list?\n",
    "- Using indexes, find out which is the last element in the list?\n",
    "- What is the index of element `90` in the list? \n",
    "- Which are the first 8 elements in the list?\n",
    "- Append elements 100 and 110 to the list.\n",
    "- Sort the elements in the list. "
   ]
  },
  {
   "cell_type": "code",
   "execution_count": 7,
   "id": "fe4022e1-eb92-4dc5-b234-699eb7d90493",
   "metadata": {},
   "outputs": [
    {
     "name": "stdout",
     "output_type": "stream",
     "text": [
      "There's 18 elements in the list.\n",
      "1 is the first element in the list.\n",
      "13 is the last element in the list.\n",
      "The index of element '90' in the list is 11\n",
      "The first 8 elements in the list are [1, 2, 34, 5, 3, 12, 9, 8]\n",
      "The new, sorted list is [1, 2, 3, 5, 8, 9, 12, 13, 21, 23, 34, 39, 45, 46, 67, 89, 90, 98, 100, 110]\n"
     ]
    }
   ],
   "source": [
    "lst = [1, 2, 34, 5, 3, 12, 9, 8, 67, 89, 98, 90, 39, 21, 45, 46, 23, 13]\n",
    "\n",
    "print(\"There's\", len(lst), \"elements in the list.\")\n",
    "\n",
    "print(lst[0], \"is the first element in the list.\")\n",
    "\n",
    "print(lst[-1], \"is the last element in the list.\")\n",
    "\n",
    "print(\"The index of element '90' in the list is\", lst.index(90))\n",
    "\n",
    "print(\"The first 8 elements in the list are\", lst[:8])\n",
    "\n",
    "lst.append(100)\n",
    "lst.append(110)\n",
    "lst.sort()\n",
    "print(\"The new, sorted list is\", lst)"
   ]
  },
  {
   "cell_type": "markdown",
   "id": "c4c2cd90",
   "metadata": {},
   "source": [
    "2. Write a program that searches for a specific element in a given list and returns its index. If the element is not found, print a message indicating that it is not present in the list."
   ]
  },
  {
   "cell_type": "code",
   "execution_count": 12,
   "id": "5e7a1e4d",
   "metadata": {},
   "outputs": [
    {
     "name": "stdout",
     "output_type": "stream",
     "text": [
      "The index for Bob is 1\n"
     ]
    }
   ],
   "source": [
    "names = [\"Alice\", \"Bob\", \"Charlie\", \"Dave\"] \n",
    "search_name = \"Bob\" # Element to search in \"names\" list\n",
    "\n",
    "if search_name in names:\n",
    "    print(\"The index for\", search_name, \"is\", names.index(search_name))\n",
    "else:\n",
    "    print(\"Element not present in the list\")"
   ]
  },
  {
   "cell_type": "markdown",
   "id": "a9f14c3a",
   "metadata": {},
   "source": [
    "3. Write a program that calculates the average of the elements in a given list. The list can contain both positive and negative numbers.\n",
    "\n",
    "*Hint: you can either look for a Python function that calculates the average or look for a Python function that sums all elements in a list and divide by the length of the list.*"
   ]
  },
  {
   "cell_type": "code",
   "execution_count": 20,
   "id": "2ee7a846",
   "metadata": {},
   "outputs": [
    {
     "name": "stdout",
     "output_type": "stream",
     "text": [
      "6.0\n"
     ]
    }
   ],
   "source": [
    "numbers = [2, 4, 6, 8, 10]\n",
    "average = sum(numbers) / len(numbers)\n",
    "print(average)"
   ]
  },
  {
   "cell_type": "code",
   "execution_count": null,
   "id": "d9249691-9c87-44e4-871d-b4c83a3278bc",
   "metadata": {},
   "outputs": [],
   "source": []
  }
 ],
 "metadata": {
  "kernelspec": {
   "display_name": "Python [conda env:base] *",
   "language": "python",
   "name": "conda-base-py"
  },
  "language_info": {
   "codemirror_mode": {
    "name": "ipython",
    "version": 3
   },
   "file_extension": ".py",
   "mimetype": "text/x-python",
   "name": "python",
   "nbconvert_exporter": "python",
   "pygments_lexer": "ipython3",
   "version": "3.12.7"
  }
 },
 "nbformat": 4,
 "nbformat_minor": 5
}
