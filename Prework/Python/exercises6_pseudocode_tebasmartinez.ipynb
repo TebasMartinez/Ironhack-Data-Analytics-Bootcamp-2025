{
 "cells": [
  {
   "cell_type": "markdown",
   "id": "727cba4d",
   "metadata": {},
   "source": [
    "### Exercise - Writing Pseudocode"
   ]
  },
  {
   "cell_type": "markdown",
   "id": "7df1dffb",
   "metadata": {},
   "source": [
    "To make the code more robust and improve the user experience, write pseudocode and code to add the following enhancements to the last example provided:\n",
    "\n",
    "- Implement a validation loop: After prompting the user for input, we can use a loop to keep asking for the value until a valid one is entered. This ensures that the program does not proceed with incorrect inputs. For example, if the user enters \"3\" instead of \"1\" or \"2\", the program will continue to prompt for the correct choice.\n",
    "\n",
    "- Bonus: Add more input validation. If the user enters a non-numerical value, we can display an error message and prompt for input again.\n",
    "\n",
    "    *Hint:*\n",
    "    - *To remove any leading or trailing spaces from the user's input, you can use the `lstrip()` method. This will remove any spaces from the left side of the input string. Example: input_string = input_string.lstrip(). Also, this method takes an optional argument where you can specify the characters you want to remove from the left side of the string. Example: input_string = input_string.lstrip(\"symbol_to_remove\")*\n",
    "\n",
    "    - *To replace a specific character or substring within a string, you can use the `replace()` method. This method takes two arguments: the old substring you want to replace and the new substring you want to replace it with. Example: input_string = input_string.replace(\"old_value\", \"new_value\")*\n",
    "\n",
    "    - *To check if a string consists only of numerical digits, you can use the `isdigit()` method. This method returns True if all the characters in the string are digits, and False otherwise. Example: is_numeric = input_string.isdigit()*"
   ]
  },
  {
   "cell_type": "code",
   "execution_count": null,
   "id": "f7c4585d",
   "metadata": {},
   "outputs": [
    {
     "name": "stdin",
     "output_type": "stream",
     "text": [
      "Press 1 to convert from Fahrenheit to Celsius or Press 2 to convert from Celsius to Fahrenheit:  lol\n"
     ]
    }
   ],
   "source": [
    "# Prompt the user to choose a conversion type\n",
    "choice = input(\"Press 1 to convert from Fahrenheit to Celsius or Press 2 to convert from Celsius to Fahrenheit: \")\n",
    "# As long as the input is not a digit, keep asking\n",
    "while not choice.isdigit():\n",
    "    choice = input(\"Press 1 to convert from Fahrenheit to Celsius or Press 2 to convert from Celsius to Fahrenheit: \")\n",
    "# Converts 'choice' variable into an int\n",
    "choice = int(choice)\n",
    "# As long as the number is not 1 or 2, keep asking\n",
    "while choice not in (1, 2):\n",
    "    choice = int(input(\"Press 1 to convert from Fahrenheit to Celsius or Press 2 to convert from Celsius to Fahrenheit: \"))\n",
    "\n",
    "# Based on the choice, ask for the temperature and perform the conversion\n",
    "if choice == 1:\n",
    "    fahrenheit = input(\"Enter the temperature in Fahrenheit: \")\n",
    "    # As long as the input is not a digit, keep asking\n",
    "    while not fahrenheit.isdigit():\n",
    "        fahrenheit = input(\"Enter the temperature in Fahrenheit: \")\n",
    "    # Converts \"fahrenheit\" variable into a float\n",
    "    fahrenheit = float(fahrenheit)\n",
    "    celsius = (fahrenheit - 32) * 5 / 9\n",
    "    print(f\"The converted temperature is {celsius:.2f} degrees Celsius.\")\n",
    "elif choice == 2:\n",
    "    celsius = input(\"Enter the temperature in Celsius: \")\n",
    "    # As long as the input is not a digit, keep asking\n",
    "    while not celsius.isdigit():\n",
    "        celsius = input(\"Enter the temperature in Celsius: \")\n",
    "    # Converts \"fahrenheit\" variable into a float\n",
    "    celsius = float(celsius)\n",
    "    fahrenheit = (celsius * 9 / 5) + 32\n",
    "    print(f\"The converted temperature is {fahrenheit:.2f} degrees Fahrenheit.\")"
   ]
  },
  {
   "cell_type": "code",
   "execution_count": null,
   "id": "ada4003c-bc01-42f5-9ec8-0a025b0969b8",
   "metadata": {},
   "outputs": [],
   "source": []
  }
 ],
 "metadata": {
  "kernelspec": {
   "display_name": "Python [conda env:base] *",
   "language": "python",
   "name": "conda-base-py"
  },
  "language_info": {
   "codemirror_mode": {
    "name": "ipython",
    "version": 3
   },
   "file_extension": ".py",
   "mimetype": "text/x-python",
   "name": "python",
   "nbconvert_exporter": "python",
   "pygments_lexer": "ipython3",
   "version": "3.12.7"
  }
 },
 "nbformat": 4,
 "nbformat_minor": 5
}
