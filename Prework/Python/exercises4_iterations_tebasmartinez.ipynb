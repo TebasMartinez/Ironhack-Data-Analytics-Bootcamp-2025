{
 "cells": [
  {
   "cell_type": "markdown",
   "id": "9b0a726d",
   "metadata": {},
   "source": [
    "# Exercises"
   ]
  },
  {
   "cell_type": "markdown",
   "id": "6e6e6b5f",
   "metadata": {},
   "source": [
    "## 1. Exercise - Simple Iterations "
   ]
  },
  {
   "cell_type": "markdown",
   "id": "19ffb5b8",
   "metadata": {},
   "source": [
    "**1.1**  Write a simple for loop to print integers from 10 to 30. "
   ]
  },
  {
   "cell_type": "code",
   "execution_count": 2,
   "id": "f9d19e28",
   "metadata": {},
   "outputs": [
    {
     "name": "stdout",
     "output_type": "stream",
     "text": [
      "10\n",
      "11\n",
      "12\n",
      "13\n",
      "14\n",
      "15\n",
      "16\n",
      "17\n",
      "18\n",
      "19\n",
      "20\n",
      "21\n",
      "22\n",
      "23\n",
      "24\n",
      "25\n",
      "26\n",
      "27\n",
      "28\n",
      "29\n",
      "30\n"
     ]
    }
   ],
   "source": [
    "for number in range(10, 31):\n",
    "    print(number)"
   ]
  },
  {
   "cell_type": "markdown",
   "id": "f856f8f9",
   "metadata": {},
   "source": [
    "**1.2** Update the previous code to print all the numbers from 10 to 30 that are multiples of 5. These are: 5, 10, 15, ..."
   ]
  },
  {
   "cell_type": "code",
   "execution_count": 5,
   "id": "8c21aea5",
   "metadata": {},
   "outputs": [
    {
     "name": "stdout",
     "output_type": "stream",
     "text": [
      "10\n",
      "15\n",
      "20\n",
      "25\n",
      "30\n"
     ]
    }
   ],
   "source": [
    "for number in range(10, 31):\n",
    "    if number % 5 == 0:\n",
    "        print(number)"
   ]
  },
  {
   "cell_type": "markdown",
   "id": "0db879cf",
   "metadata": {},
   "source": [
    "**1.3** Modify the dummy code provided to print the following pattern. \n",
    "\n",
    "- The pattern    \n",
    "    ```\n",
    "    *\n",
    "    ***\n",
    "    *****\n",
    "    ```\n",
    "\n",
    "<br>\n",
    "\n",
    "- Dummy Code\n",
    "\n",
    "    ```python\n",
    "    for i in range(1, _, _):\n",
    "        print(\"*\"*i)\n",
    "    ```"
   ]
  },
  {
   "cell_type": "code",
   "execution_count": 14,
   "id": "9f9215fd",
   "metadata": {},
   "outputs": [
    {
     "name": "stdout",
     "output_type": "stream",
     "text": [
      "*\n",
      "***\n",
      "*****\n"
     ]
    }
   ],
   "source": [
    "for i in range(1,6,2):\n",
    "    print(\"*\"*i)"
   ]
  },
  {
   "cell_type": "markdown",
   "id": "10522d11",
   "metadata": {},
   "source": [
    "**1.4** Update the following code to print the pattern:\n",
    "\n",
    "  ```\n",
    "    *\n",
    "   ***\n",
    "  *****\n",
    "  ```\n",
    "\n",
    "  ```python\n",
    "  a = # Fill the starting value\n",
    "  for i in range(1, _, _):\n",
    "    a = a - 1\n",
    "    print(\" \"*a+\"*\"*i)\n",
    "  ```"
   ]
  },
  {
   "cell_type": "code",
   "execution_count": 16,
   "id": "ec1b856e",
   "metadata": {},
   "outputs": [
    {
     "name": "stdout",
     "output_type": "stream",
     "text": [
      "  *\n",
      " ***\n",
      "*****\n"
     ]
    }
   ],
   "source": [
    "a = 3\n",
    "for i in range(1, 6, 2):\n",
    "  a = a - 1\n",
    "  print(\" \"*a+\"*\"*i)"
   ]
  },
  {
   "cell_type": "markdown",
   "id": "f5d26053",
   "metadata": {},
   "source": [
    "**1.5** Use the function `input()` to prompt the user to enter an integer number. Then calculate the factorial of that number using loops. To verify the correctness of your result, you can compare it with the factorial calculated using the `factorial` function from the `math` library.\n",
    "\n",
    "<br>\n",
    "\n",
    "```python\n",
    "import math\n",
    "math.factorial(n) # n is the positive integer for which we want to calculate the factorial \n",
    "```\n",
    "\n",
    "**Note**: Factorial is defined as:\n",
    "\n",
    "```\n",
    "5 ! = 5*4*3*2*1  # \" ! \" is the mathematical notation for factorial\n",
    "    \n",
    "n! = n*(n-1)*(n-2)*..........*1\n",
    "```"
   ]
  },
  {
   "cell_type": "code",
   "execution_count": 38,
   "id": "58d3e813",
   "metadata": {},
   "outputs": [
    {
     "name": "stdin",
     "output_type": "stream",
     "text": [
      "Please enter an integer number:  5\n"
     ]
    },
    {
     "name": "stdout",
     "output_type": "stream",
     "text": [
      "120\n",
      "120\n"
     ]
    }
   ],
   "source": [
    "number = int(input(\"Please enter an integer number: \"))\n",
    "total = 1\n",
    "for i in range(0,number-1):\n",
    "    total = total * (number - i)\n",
    "print(total)\n",
    "\n",
    "import math\n",
    "total2 = math.factorial(number)\n",
    "print(total2)"
   ]
  },
  {
   "cell_type": "markdown",
   "id": "4f801d3f",
   "metadata": {},
   "source": [
    "-----------------------------"
   ]
  },
  {
   "cell_type": "markdown",
   "id": "729106ef",
   "metadata": {},
   "source": [
    "## 2. Exercise - Iterations on Lists"
   ]
  },
  {
   "cell_type": "markdown",
   "id": "c0053432",
   "metadata": {},
   "source": [
    "Given the list:\n",
    "```python\n",
    "x = [12, 43, 4, 1, 6, 343, 10, 34, 12, 93, 783, 330, 896, 1, 55]\n",
    "```"
   ]
  },
  {
   "cell_type": "markdown",
   "id": "f018ab3a",
   "metadata": {},
   "source": [
    "**2.1** Write code to find only those numbers in the list that are divisible by 3."
   ]
  },
  {
   "cell_type": "code",
   "execution_count": 41,
   "id": "c91b6cd1",
   "metadata": {},
   "outputs": [
    {
     "name": "stdout",
     "output_type": "stream",
     "text": [
      "12\n",
      "6\n",
      "12\n",
      "93\n",
      "783\n",
      "330\n"
     ]
    }
   ],
   "source": [
    "x = [12, 43, 4, 1, 6, 343, 10, 34, 12, 93, 783, 330, 896, 1, 55]\n",
    "i = 0\n",
    "while i < len(x):\n",
    "    if x[i] % 3 == 0:\n",
    "        print(x[i])\n",
    "    i += 1\n"
   ]
  },
  {
   "cell_type": "markdown",
   "id": "89b68985",
   "metadata": {},
   "source": [
    "**2.2** Write code to find only those numbers in a list that end with the digit 3. Create a new list with those numbers. To accomplish this, you can convert the integers to strings and use indexing to access the last digit. Here's an example of how to use indexing with strings:\n",
    "\n",
    "```python\n",
    "string_value = 'IRONHACK'\n",
    "string_value[0]\n",
    "```"
   ]
  },
  {
   "cell_type": "code",
   "execution_count": 59,
   "id": "2549e866",
   "metadata": {},
   "outputs": [
    {
     "name": "stdin",
     "output_type": "stream",
     "text": [
      "Please enter integer numbers one by one, pressing enter between numbers. Once you've entered all desired numbers, type 'stop' and press enter: 12\n",
      "Please enter integer numbers one by one, pressing enter between numbers. Once you've entered all desired numbers, type 'stop' and press enter: 43\n",
      "Please enter integer numbers one by one, pressing enter between numbers. Once you've entered all desired numbers, type 'stop' and press enter: 4\n",
      "Please enter integer numbers one by one, pressing enter between numbers. Once you've entered all desired numbers, type 'stop' and press enter: 1\n",
      "Please enter integer numbers one by one, pressing enter between numbers. Once you've entered all desired numbers, type 'stop' and press enter: 6\n",
      "Please enter integer numbers one by one, pressing enter between numbers. Once you've entered all desired numbers, type 'stop' and press enter: 343\n",
      "Please enter integer numbers one by one, pressing enter between numbers. Once you've entered all desired numbers, type 'stop' and press enter: 10\n",
      "Please enter integer numbers one by one, pressing enter between numbers. Once you've entered all desired numbers, type 'stop' and press enter: 34\n",
      "Please enter integer numbers one by one, pressing enter between numbers. Once you've entered all desired numbers, type 'stop' and press enter: 12\n",
      "Please enter integer numbers one by one, pressing enter between numbers. Once you've entered all desired numbers, type 'stop' and press enter: 93\n",
      "Please enter integer numbers one by one, pressing enter between numbers. Once you've entered all desired numbers, type 'stop' and press enter: 783\n",
      "Please enter integer numbers one by one, pressing enter between numbers. Once you've entered all desired numbers, type 'stop' and press enter: 330\n",
      "Please enter integer numbers one by one, pressing enter between numbers. Once you've entered all desired numbers, type 'stop' and press enter: 896\n",
      "Please enter integer numbers one by one, pressing enter between numbers. Once you've entered all desired numbers, type 'stop' and press enter: 1\n",
      "Please enter integer numbers one by one, pressing enter between numbers. Once you've entered all desired numbers, type 'stop' and press enter: 55\n",
      "Please enter integer numbers one by one, pressing enter between numbers. Once you've entered all desired numbers, type 'stop' and press enter: stop\n"
     ]
    },
    {
     "name": "stdout",
     "output_type": "stream",
     "text": [
      "The list you have provided is ['12', '43', '4', '1', '6', '343', '10', '34', '12', '93', '783', '330', '896', '1', '55']\n",
      "The numbers in your list ending with the digit 3 are: ['43', '343', '93', '783']\n"
     ]
    }
   ],
   "source": [
    "numbers = []\n",
    "numbers3 = []\n",
    "answer = 'start'\n",
    "\n",
    "while answer != 'stop':\n",
    "    answer = input(\"Please enter integer numbers one by one, pressing enter between numbers. Once you've entered all desired numbers, type 'stop' and press enter:\")\n",
    "    if answer != 'stop':\n",
    "        numbers.append(answer)\n",
    "\n",
    "i = 0\n",
    "while i < len(numbers):\n",
    "    if numbers[i][-1] == '3':\n",
    "        numbers3.append(numbers[i])\n",
    "    i += 1\n",
    "\n",
    "print(f\"The list you have provided is {numbers}\")\n",
    "print(f\"The numbers in your list ending with the digit 3 are: {numbers3}\")"
   ]
  },
  {
   "cell_type": "markdown",
   "id": "ee663358",
   "metadata": {},
   "source": [
    "**2.3** Find the minimum value in the list `x`. You can research if there is any function available directly to calculate the minimum value."
   ]
  },
  {
   "cell_type": "code",
   "execution_count": 62,
   "id": "4e51cb1f",
   "metadata": {},
   "outputs": [
    {
     "name": "stdout",
     "output_type": "stream",
     "text": [
      "1\n"
     ]
    }
   ],
   "source": [
    "print(min(x))"
   ]
  },
  {
   "cell_type": "markdown",
   "id": "19896ec9",
   "metadata": {},
   "source": [
    "**2.4** Find the maximum value in the list `x`. Similarly, research if there is any function available directly to calculate the maximum value."
   ]
  },
  {
   "cell_type": "code",
   "execution_count": 63,
   "id": "57f3649d",
   "metadata": {},
   "outputs": [
    {
     "name": "stdout",
     "output_type": "stream",
     "text": [
      "896\n"
     ]
    }
   ],
   "source": [
    "print(max(x))"
   ]
  },
  {
   "cell_type": "markdown",
   "id": "8d7ca85f",
   "metadata": {},
   "source": [
    "-----------------------------"
   ]
  },
  {
   "cell_type": "markdown",
   "id": "28431285",
   "metadata": {},
   "source": [
    "## 3. Exercise - Iterations on Dictionaries"
   ]
  },
  {
   "cell_type": "markdown",
   "id": "ad1ee416",
   "metadata": {},
   "source": [
    "Given this dictionary:"
   ]
  },
  {
   "cell_type": "code",
   "execution_count": 2,
   "id": "a7ba0f3f",
   "metadata": {},
   "outputs": [],
   "source": [
    "word_freq = {'love': 25, 'conversation': 1, 'every': 6, \"we're\": 1, 'plate': 1, 'sour': 1, 'jukebox': 1, 'now': 11, 'taxi': 1, 'fast': 1, 'bag': 1, 'man': 1, 'push': 3, 'baby': 14, 'going': 1, 'you': 16, \"don't\": 2, 'one': 1, 'mind': 2, 'backseat': 1, 'friends': 1, 'then': 3, 'know': 2}"
   ]
  },
  {
   "cell_type": "markdown",
   "id": "73cd138e",
   "metadata": {},
   "source": [
    "**3.1** Iterate on the items of this dictionary to print only those keys where the frequency of the word is less than 3."
   ]
  },
  {
   "cell_type": "code",
   "execution_count": 71,
   "id": "e56c2bea",
   "metadata": {},
   "outputs": [
    {
     "name": "stdout",
     "output_type": "stream",
     "text": [
      "conversation\n",
      "we're\n",
      "plate\n",
      "sour\n",
      "jukebox\n",
      "taxi\n",
      "fast\n",
      "bag\n",
      "man\n",
      "going\n",
      "don't\n",
      "one\n",
      "mind\n",
      "backseat\n",
      "friends\n",
      "know\n"
     ]
    }
   ],
   "source": [
    "for word in word_freq.keys():\n",
    "    if word_freq[word] < 3:\n",
    "        print(word)"
   ]
  },
  {
   "cell_type": "markdown",
   "id": "b9c784a0",
   "metadata": {},
   "source": [
    "**3.2** Iterate on the items of this dictionary to print the word with the highest frequency.\n",
    "\n",
    "*Hint: There are multiple approaches to solve this exercise.*\n",
    "- *Use the max() function with a custom key to find the word with the highest frequency.*\n",
    "- *Initialize max_frequency and word_with_max_freq to 0 and an empty string, respectively. Iterate over the dictionary items, updating the variables when a higher frequency is found.*\n",
    "- *Convert the dictionary values to a list and use max() to find the maximum frequency (max_freq). Iterate over the dictionary items and print the word if its frequency matches max_freq.*"
   ]
  },
  {
   "cell_type": "code",
   "execution_count": 83,
   "id": "4515b686",
   "metadata": {},
   "outputs": [
    {
     "name": "stdout",
     "output_type": "stream",
     "text": [
      "Following the first approach, the result is: love\n",
      "Following the second approach, the result is: love\n",
      "Following the third approach, the result is: love\n"
     ]
    }
   ],
   "source": [
    "# Trying all 3 approaches below:\n",
    "\n",
    "# Use the max() function with a custom key to find the word with the highest frequency.\n",
    "maxi = max(word_freq, key=lambda word: word_freq[word])\n",
    "print(\"Following the first approach, the result is:\", maxi)\n",
    "\n",
    "#Initialize max_frequency and word_with_max_freq to 0 and an empty string, respectively. \n",
    "#Iterate over the dictionary items, updating the variables when a higher frequency is found.\n",
    "max_frequency = 0\n",
    "word_with_max_freq = ''\n",
    "for word in word_freq:\n",
    "    if word_freq[word] > max_frequency:\n",
    "        max_frequency = word_freq[word]\n",
    "        word_with_max_freq = word\n",
    "print(\"Following the second approach, the result is:\", word_with_max_freq)\n",
    "\n",
    "# Convert the dictionary values to a list and use max() to find the maximum frequency (max_freq). \n",
    "# Iterate over the dictionary items and print the word if its frequency matches max_freq.\n",
    "list_of_values = list(word_freq.values())\n",
    "max_freq = max(list_of_values)\n",
    "for word in word_freq:\n",
    "    if word_freq[word] == max_freq:\n",
    "        print(\"Following the third approach, the result is:\", word)"
   ]
  },
  {
   "cell_type": "markdown",
   "id": "65a3d249",
   "metadata": {},
   "source": [
    "-----------------------------"
   ]
  },
  {
   "cell_type": "markdown",
   "id": "52c17c7f",
   "metadata": {},
   "source": [
    "## 4. Exercise - More on iterations "
   ]
  },
  {
   "cell_type": "markdown",
   "id": "9e10930a",
   "metadata": {},
   "source": [
    "Write a program that generates a random number between 1 and 100. The program should then prompt the user to guess the number. If the user's guess is too high, the program should print \"Too high, try again!\" and ask for another guess. If the guess is too low, the program should print \"Too low, try again!\" and ask for another guess. If the user guesses the correct number, the program should print \"Congratulations, you guessed the number!\" and end.\n",
    "\n",
    "Hints:\n",
    "\n",
    "- You will need to use a loop to repeatedly ask for guesses until the correct number is guessed.\n",
    "- Remember to convert the user's input to an integer using the `int()` function.\n",
    "- Use the `random` module in Python to generate a random number.\n",
    "\n",
    "```python\n",
    "import random\n",
    "\n",
    "# Generate a random number between 1 and 10\n",
    "random_number = random.randint(1, 10)\n",
    "```"
   ]
  },
  {
   "cell_type": "code",
   "execution_count": 4,
   "id": "3e203666",
   "metadata": {},
   "outputs": [
    {
     "name": "stdout",
     "output_type": "stream",
     "text": [
      "The random number generated appears here for testing: 7\n"
     ]
    },
    {
     "name": "stdin",
     "output_type": "stream",
     "text": [
      "Let's play 'Guess the number!' Please enter an integer between 1 and 100: 9\n",
      "Too high, try again! 89\n",
      "Too high, try again! 1\n",
      "Too low, try again! 3\n",
      "Too low, try again! 6\n",
      "Too low, try again! 8\n",
      "Too high, try again! 7\n"
     ]
    },
    {
     "name": "stdout",
     "output_type": "stream",
     "text": [
      "Congratulations, you guessed the number!\n"
     ]
    }
   ],
   "source": [
    "import random\n",
    "\n",
    "# Generate a random number between 1 and 10\n",
    "random_number = random.randint(1, 100)\n",
    "\n",
    "print(\"The random number generated appears here for testing:\", random_number)\n",
    "\n",
    "user_number = int(input(\"Let's play 'Guess the number!' Please enter an integer between 1 and 100:\"))\n",
    "\n",
    "while user_number != random_number:\n",
    "    if user_number > random_number:\n",
    "        user_number = int(input(\"Too high, try again!\"))\n",
    "    else:\n",
    "        user_number = int(input(\"Too low, try again!\"))\n",
    "\n",
    "print(\"Congratulations, you guessed the number!\")"
   ]
  }
 ],
 "metadata": {
  "kernelspec": {
   "display_name": "Python [conda env:base] *",
   "language": "python",
   "name": "conda-base-py"
  },
  "language_info": {
   "codemirror_mode": {
    "name": "ipython",
    "version": 3
   },
   "file_extension": ".py",
   "mimetype": "text/x-python",
   "name": "python",
   "nbconvert_exporter": "python",
   "pygments_lexer": "ipython3",
   "version": "3.12.7"
  }
 },
 "nbformat": 4,
 "nbformat_minor": 5
}
